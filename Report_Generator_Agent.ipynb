{
  "nbformat": 4,
  "nbformat_minor": 0,
  "metadata": {
    "colab": {
      "provenance": [],
      "authorship_tag": "ABX9TyPF6rjuiklBDngTQG1bV56J",
      "include_colab_link": true
    },
    "kernelspec": {
      "name": "python3",
      "display_name": "Python 3"
    },
    "language_info": {
      "name": "python"
    }
  },
  "cells": [
    {
      "cell_type": "markdown",
      "metadata": {
        "id": "view-in-github",
        "colab_type": "text"
      },
      "source": [
        "<a href=\"https://colab.research.google.com/github/kalai2315/Report_Generator_Agent/blob/main/Report_Generator_Agent.ipynb\" target=\"_parent\"><img src=\"https://colab.research.google.com/assets/colab-badge.svg\" alt=\"Open In Colab\"/></a>"
      ]
    },
    {
      "cell_type": "markdown",
      "source": [
        "# Mini project 2: Building a Report Generator Agent"
      ],
      "metadata": {
        "id": "To4y8hvvb_1F"
      }
    },
    {
      "cell_type": "markdown",
      "source": [
        "**Branching and Merging Chains with LCEL**\n",
        "\n",
        "Branching and Merging Chains are concepts used in LangChain and LCEL (LangChain Expression Language) to handle conditional logic and parallel or selective execution of chains based on input."
      ],
      "metadata": {
        "id": "wRFf3Yekc94L"
      }
    },
    {
      "cell_type": "code",
      "execution_count": 1,
      "metadata": {
        "colab": {
          "base_uri": "https://localhost:8080/"
        },
        "id": "oiTDzYMvb79G",
        "outputId": "97e5eedb-be04-4a1f-d033-2d87cfc598ec"
      },
      "outputs": [
        {
          "output_type": "stream",
          "name": "stdout",
          "text": [
            "\u001b[?25l   \u001b[90m━━━━━━━━━━━━━━━━━━━━━━━━━━━━━━━━━━━━━━━━\u001b[0m \u001b[32m0.0/1.0 MB\u001b[0m \u001b[31m?\u001b[0m eta \u001b[36m-:--:--\u001b[0m\r\u001b[2K   \u001b[91m━━━━━━━━━━━━━━━━━━\u001b[0m\u001b[90m╺\u001b[0m\u001b[90m━━━━━━━━━━━━━━━━━━━━━\u001b[0m \u001b[32m0.5/1.0 MB\u001b[0m \u001b[31m13.6 MB/s\u001b[0m eta \u001b[36m0:00:01\u001b[0m\r\u001b[2K   \u001b[90m━━━━━━━━━━━━━━━━━━━━━━━━━━━━━━━━━━━━━━━━\u001b[0m \u001b[32m1.0/1.0 MB\u001b[0m \u001b[31m16.2 MB/s\u001b[0m eta \u001b[36m0:00:00\u001b[0m\n",
            "\u001b[2K   \u001b[90m━━━━━━━━━━━━━━━━━━━━━━━━━━━━━━━━━━━━━━━━\u001b[0m \u001b[32m44.8/44.8 kB\u001b[0m \u001b[31m3.1 MB/s\u001b[0m eta \u001b[36m0:00:00\u001b[0m\n",
            "\u001b[2K   \u001b[90m━━━━━━━━━━━━━━━━━━━━━━━━━━━━━━━━━━━━━━━━\u001b[0m \u001b[32m2.5/2.5 MB\u001b[0m \u001b[31m65.0 MB/s\u001b[0m eta \u001b[36m0:00:00\u001b[0m\n",
            "\u001b[2K   \u001b[90m━━━━━━━━━━━━━━━━━━━━━━━━━━━━━━━━━━━━━━━━\u001b[0m \u001b[32m1.4/1.4 MB\u001b[0m \u001b[31m48.2 MB/s\u001b[0m eta \u001b[36m0:00:00\u001b[0m\n",
            "\u001b[2K   \u001b[90m━━━━━━━━━━━━━━━━━━━━━━━━━━━━━━━━━━━━━━━━\u001b[0m \u001b[32m438.9/438.9 kB\u001b[0m \u001b[31m28.1 MB/s\u001b[0m eta \u001b[36m0:00:00\u001b[0m\n",
            "\u001b[2K   \u001b[90m━━━━━━━━━━━━━━━━━━━━━━━━━━━━━━━━━━━━━━━━\u001b[0m \u001b[32m45.2/45.2 kB\u001b[0m \u001b[31m3.1 MB/s\u001b[0m eta \u001b[36m0:00:00\u001b[0m\n",
            "\u001b[2K   \u001b[90m━━━━━━━━━━━━━━━━━━━━━━━━━━━━━━━━━━━━━━━━\u001b[0m \u001b[32m50.9/50.9 kB\u001b[0m \u001b[31m3.8 MB/s\u001b[0m eta \u001b[36m0:00:00\u001b[0m\n",
            "\u001b[?25h\u001b[31mERROR: pip's dependency resolver does not currently take into account all the packages that are installed. This behaviour is the source of the following dependency conflicts.\n",
            "google-generativeai 0.8.5 requires google-ai-generativelanguage==0.6.15, but you have google-ai-generativelanguage 0.6.18 which is incompatible.\u001b[0m\u001b[31m\n",
            "\u001b[0m"
          ]
        }
      ],
      "source": [
        "\n",
        "%pip install -U --quiet langchain langchain-google-genai langchain-community"
      ]
    },
    {
      "cell_type": "code",
      "source": [
        "\n",
        "import os\n",
        "from getpass import getpass\n",
        "\n",
        "os.environ[\"GOOGLE_API_KEY\"] = getpass(\"Enter your Google API Key: \")"
      ],
      "metadata": {
        "colab": {
          "base_uri": "https://localhost:8080/"
        },
        "id": "NG-uukkBdLPb",
        "outputId": "61ee730a-491b-49d3-e49c-d8f82d5707ee"
      },
      "execution_count": 2,
      "outputs": [
        {
          "name": "stdout",
          "output_type": "stream",
          "text": [
            "Enter your Google API Key: ··········\n"
          ]
        }
      ]
    },
    {
      "cell_type": "code",
      "source": [
        "\n",
        "from langchain_google_genai import ChatGoogleGenerativeAI\n",
        "llm = ChatGoogleGenerativeAI(model = \"gemini-1.5-flash-latest\")"
      ],
      "metadata": {
        "id": "Q2271D_cdReG"
      },
      "execution_count": 3,
      "outputs": []
    },
    {
      "cell_type": "code",
      "source": [
        "\n",
        "from langchain_core.prompts import ChatPromptTemplate\n",
        "\n",
        "from langchain_core.output_parsers import StrOutputParser"
      ],
      "metadata": {
        "id": "jvk42bage1Yt"
      },
      "execution_count": 4,
      "outputs": []
    },
    {
      "cell_type": "code",
      "source": [
        "description_prompt = ChatPromptTemplate.from_template(\n",
        "    \"\"\"Generate a two line description for the given topic:\n",
        "    {topic}\n",
        "    \"\"\"\n",
        ")\n",
        "description_chain = description_prompt | llm | StrOutputParser()"
      ],
      "metadata": {
        "id": "-AH6jtqcdV2z"
      },
      "execution_count": 5,
      "outputs": []
    },
    {
      "cell_type": "code",
      "source": [
        "pros_prompt = ChatPromptTemplate.from_template(\n",
        "    \"\"\"Generate three bullet points talking about the pros for the given topic:\n",
        "    {topic}\n",
        "    \"\"\"\n",
        ")\n",
        "\n",
        "pros_chain = pros_prompt | llm | StrOutputParser()\n"
      ],
      "metadata": {
        "id": "hke6BpmafQFE"
      },
      "execution_count": 6,
      "outputs": []
    },
    {
      "cell_type": "code",
      "source": [
        "cons_prompt = ChatPromptTemplate.from_template(\n",
        "    \"\"\"Generate three bullet points talking about the cons for the given topic:\n",
        "    {topic}\n",
        "    \"\"\"\n",
        ")\n",
        "\n",
        "cons_chain = cons_prompt | llm | StrOutputParser()\n"
      ],
      "metadata": {
        "id": "jE9t38W8fnAQ"
      },
      "execution_count": 7,
      "outputs": []
    },
    {
      "cell_type": "code",
      "source": [
        "from operator import itemgetter\n",
        "from langchain_core.runnables import RunnableParallel, RunnablePassthrough\n",
        "\n",
        "branch_chain = (RunnableParallel(\n",
        "    topic=itemgetter(\"topic\"),\n",
        "    description=(description_chain),\n",
        "    pros=pros_chain,\n",
        "    cons=cons_chain,\n",
        "))"
      ],
      "metadata": {
        "id": "CA_hkdnnf1z_"
      },
      "execution_count": 10,
      "outputs": []
    },
    {
      "cell_type": "code",
      "source": [
        "branch_chain.invoke({\"topic\": \"Artificial Intelligence\"})"
      ],
      "metadata": {
        "colab": {
          "base_uri": "https://localhost:8080/"
        },
        "id": "dpON78I_gZzb",
        "outputId": "99e1bce8-f91b-4c33-a597-a03d239a9202"
      },
      "execution_count": 11,
      "outputs": [
        {
          "output_type": "execute_result",
          "data": {
            "text/plain": [
              "{'topic': 'Artificial Intelligence',\n",
              " 'description': \"Artificial intelligence (AI) simulates human intelligence in machines, enabling them to learn, reason, and solve problems.  It's rapidly transforming industries and impacting nearly every aspect of modern life.\",\n",
              " 'pros': '* **Increased Efficiency and Productivity:** AI automates tasks, analyzes data at speeds far exceeding human capabilities, and optimizes processes across various industries, leading to significant gains in efficiency and productivity.\\n\\n* **Improved Decision-Making:** AI algorithms can analyze vast datasets to identify patterns and trends invisible to humans, providing valuable insights for better and more informed decision-making in areas like healthcare, finance, and business strategy.\\n\\n* **Solving Complex Problems:** AI can tackle complex problems that are beyond human capacity, such as predicting natural disasters, developing new medicines, and optimizing resource allocation in challenging environments.',\n",
              " 'cons': '* **Job displacement:** AI-driven automation has the potential to displace workers in various sectors, leading to unemployment and economic inequality.\\n\\n* **Bias and discrimination:** AI systems are trained on data, and if that data reflects existing societal biases, the AI will perpetuate and even amplify those biases, leading to unfair or discriminatory outcomes.\\n\\n* **Lack of transparency and explainability:**  Many AI systems, particularly deep learning models, are \"black boxes,\" making it difficult to understand how they arrive at their decisions. This lack of transparency can hinder accountability and trust.'}"
            ]
          },
          "metadata": {},
          "execution_count": 11
        }
      ]
    },
    {
      "cell_type": "code",
      "source": [
        "merge_prompt = ChatPromptTemplate.from_template(\n",
        "    \"\"\"create a report about {topic} with the following information:\n",
        "    Description: {description}\n",
        "    Pros: {pros}\n",
        "    Cons: {cons}\n",
        "\n",
        "    Report should be in the following format:\n",
        "    Topic: <name of the topic>\n",
        "    Description: <description of the topic>\n",
        "    pros and Cons:\n",
        "    <Table with two columns showing the 3 pros and cons of the topic>\n",
        "    \"\"\"\n",
        ")\n",
        "\n",
        "merge_chain = merge_prompt | llm | StrOutputParser()\n"
      ],
      "metadata": {
        "id": "0y6iZB1wgxSW"
      },
      "execution_count": 17,
      "outputs": []
    },
    {
      "cell_type": "code",
      "source": [
        "final_chain = (branch_chain | merge_chain)\n"
      ],
      "metadata": {
        "id": "5bogcAd-igMq"
      },
      "execution_count": 18,
      "outputs": []
    },
    {
      "cell_type": "code",
      "source": [
        "response = final_chain.invoke({\"topic\": \"Artificial Intelligence\"})"
      ],
      "metadata": {
        "id": "DLZShZyYj0w0"
      },
      "execution_count": 19,
      "outputs": []
    },
    {
      "cell_type": "code",
      "source": [
        "from IPython.display import display, Markdown\n",
        "\n",
        "display(Markdown(response))"
      ],
      "metadata": {
        "colab": {
          "base_uri": "https://localhost:8080/",
          "height": 237
        },
        "id": "ckLjB6_qj8Ee",
        "outputId": "47d89b25-e589-4047-d56c-1a448e9c440a"
      },
      "execution_count": 20,
      "outputs": [
        {
          "output_type": "display_data",
          "data": {
            "text/plain": [
              "<IPython.core.display.Markdown object>"
            ],
            "text/markdown": "Topic: Artificial Intelligence (AI)\n\nDescription: Artificial intelligence (AI) is the simulation of human intelligence processes by machines, especially computer systems. It encompasses learning, reasoning, problem-solving, and perception, enabling computers to perform tasks that typically require human intelligence.\n\n\nPros and Cons:\n\n| Pros                                      | Cons                                           |\n|-------------------------------------------|-------------------------------------------------|\n| Increased Efficiency and Productivity     | Job displacement                                 |\n| Improved Decision-Making                   | Bias and discrimination                           |\n| Solving Complex Problems                   | Lack of transparency and accountability          |"
          },
          "metadata": {}
        }
      ]
    }
  ]
}